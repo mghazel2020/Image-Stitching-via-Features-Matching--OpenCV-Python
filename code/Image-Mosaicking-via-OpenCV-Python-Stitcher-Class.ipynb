{
 "cells": [
  {
   "cell_type": "code",
   "execution_count": 2,
   "metadata": {},
   "outputs": [
    {
     "name": "stdout",
     "output_type": "stream",
     "text": [
      "['img01.jpg', 'img07.jpg', 'img13.jpg', 'img19.jpg', 'img25.jpg']\n",
      "Time --->>>>> 2.402298927307129\n"
     ]
    }
   ],
   "source": [
    "import time\n",
    "import cv2\n",
    "import os\n",
    "import numpy as np\n",
    "import sys\n",
    "\n",
    "def main():\n",
    "    # read input images\n",
    "    imgs = []\n",
    "    path = 'synthetic-5-images/'\n",
    "    i = 0\n",
    "    for (root, dirs, files) in os.walk(path):\n",
    "        images = [f for f in files]\n",
    "        print(images)\n",
    "        for i in range(0,len(images)):\n",
    "            curImg = cv2.imread(path + images[i])\n",
    "            imgs.append(curImg)\n",
    "\n",
    "    stitcher = cv2.Stitcher.create(mode= 0)\n",
    "    status ,result = stitcher.stitch(imgs)\n",
    "    if status != cv2.Stitcher_OK:\n",
    "        print(\"Can't stitch images, error code = %d\" % status)\n",
    "        sys.exit(-1)\n",
    "    cv2.imwrite(\"panorama/synthetic-5-images-panorama.jpg\", result)\n",
    "    cv2.waitKey(0)\n",
    "\n",
    "\n",
    "if __name__ == '__main__':\n",
    "    start = time.time()\n",
    "    main()\n",
    "    end = time.time()\n",
    "    print(\"Time --->>>>>\", end - start)\n",
    "    cv2.destroyAllWindows()"
   ]
  },
  {
   "cell_type": "code",
   "execution_count": null,
   "metadata": {},
   "outputs": [],
   "source": []
  },
  {
   "cell_type": "code",
   "execution_count": null,
   "metadata": {},
   "outputs": [],
   "source": []
  }
 ],
 "metadata": {
  "kernelspec": {
   "display_name": "Python 3",
   "language": "python",
   "name": "python3"
  },
  "language_info": {
   "codemirror_mode": {
    "name": "ipython",
    "version": 3
   },
   "file_extension": ".py",
   "mimetype": "text/x-python",
   "name": "python",
   "nbconvert_exporter": "python",
   "pygments_lexer": "ipython3",
   "version": "3.8.5"
  }
 },
 "nbformat": 4,
 "nbformat_minor": 4
}
